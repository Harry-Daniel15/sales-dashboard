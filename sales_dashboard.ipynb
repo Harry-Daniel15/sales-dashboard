{
 "cells": [
  {
   "cell_type": "code",
   "execution_count": 2,
   "id": "fc5bce79-08c7-42ee-b69f-5a4fdf62cf3e",
   "metadata": {},
   "outputs": [
    {
     "data": {
      "text/html": [
       "\n",
       "        <iframe\n",
       "            width=\"100%\"\n",
       "            height=\"650\"\n",
       "            src=\"http://127.0.0.1:8050/\"\n",
       "            frameborder=\"0\"\n",
       "            allowfullscreen\n",
       "            \n",
       "        ></iframe>\n",
       "        "
      ],
      "text/plain": [
       "<IPython.lib.display.IFrame at 0x241d7880a50>"
      ]
     },
     "metadata": {},
     "output_type": "display_data"
    }
   ],
   "source": [
    "import pandas as pd\n",
    "import plotly.express as px\n",
    "from dash import Dash, dcc, html\n",
    "from dash.dependencies import Input, Output\n",
    "\n",
    "# Sample Data\n",
    "data = {\n",
    "    \"Transaction ID\": [1001, 1002, 1003, 1004, 1005],\n",
    "    \"Product Name\": [\"Laptop\", \"Smartphone\", \"Headphones\", \"Tablet\", \"Monitor\"],\n",
    "    \"Quantity Sold\": [2, 5, 3, 1, 2],\n",
    "    \"Unit Price\": [800, 500, 150, 400, 300],\n",
    "    \"Total Sales\": [1600, 2500, 450, 400, 600],\n",
    "    \"Date of Sale\": [\"8/1/2025\", \"8/1/2025\", \"8/2/2025\", \"8/3/2025\", \"8/4/2025\"]\n",
    "}\n",
    "\n",
    "# Convert Data into DataFrame\n",
    "df = pd.DataFrame(data)\n",
    "df['Date of Sale'] = pd.to_datetime(df['Date of Sale'])\n",
    "\n",
    "# Calculate the total sales by product for pie chart\n",
    "sales_by_product = df.groupby('Product Name')['Total Sales'].sum().reset_index()\n",
    "\n",
    "# Initialize Dash App\n",
    "app = Dash(__name__)\n",
    "\n",
    "# Layout of the app\n",
    "app.layout = html.Div([\n",
    "    html.H1(\"Interactive Sales Dashboard\"),\n",
    "    \n",
    "    # Dropdown to select product\n",
    "    dcc.Dropdown(\n",
    "        id='product-dropdown',\n",
    "        options=[{'label': product, 'value': product} for product in df['Product Name'].unique()],\n",
    "        value='Laptop',  # Default selected value\n",
    "        multi=False\n",
    "    ),\n",
    "    \n",
    "    # Graph for Total Sales\n",
    "    dcc.Graph(id='sales-graph'),\n",
    "    \n",
    "    # Graph for Quantity Sold\n",
    "    dcc.Graph(id='quantity-graph'),\n",
    "    \n",
    "    # Pie chart for Total Sales Distribution by Product\n",
    "    dcc.Graph(id='pie-chart')\n",
    "])\n",
    "\n",
    "# Callback to update the graphs based on selected product\n",
    "@app.callback(\n",
    "    [Output('sales-graph', 'figure'),\n",
    "     Output('quantity-graph', 'figure'),\n",
    "     Output('pie-chart', 'figure')],\n",
    "    [Input('product-dropdown', 'value')]\n",
    ")\n",
    "def update_graph(selected_product):\n",
    "    # Filter data based on selected product\n",
    "    filtered_df = df[df['Product Name'] == selected_product]\n",
    "    \n",
    "    # Create the Total Sales bar graph\n",
    "    sales_fig = px.bar(filtered_df, \n",
    "                       x='Date of Sale', \n",
    "                       y='Total Sales', \n",
    "                       title=f\"Total Sales for {selected_product}\",\n",
    "                       labels={\"Total Sales\": \"Sales ($)\", \"Date of Sale\": \"Date\"})\n",
    "    \n",
    "    # Create the Quantity Sold bar graph\n",
    "    quantity_fig = px.bar(filtered_df, \n",
    "                          x='Date of Sale', \n",
    "                          y='Quantity Sold', \n",
    "                          title=f\"Quantity Sold for {selected_product}\",\n",
    "                          labels={\"Quantity Sold\": \"Quantity Sold\", \"Date of Sale\": \"Date\"},\n",
    "                          color_discrete_sequence=[\"#EF553B\"]\n",
    "                         )\n",
    "    \n",
    "    # Create the Pie chart for Total Sales Distribution by Product\n",
    "    pie_fig = px.pie(sales_by_product, \n",
    "                     names='Product Name', \n",
    "                     values='Total Sales', \n",
    "                     title=\"Total Sales Distribution by Product\")\n",
    "    \n",
    "    return sales_fig, quantity_fig, pie_fig\n",
    "\n",
    "# Run the app in Jupyter notebook\n",
    "app.run(mode=\"inline\")\n"
   ]
  },
  {
   "cell_type": "code",
   "execution_count": null,
   "id": "57a36993-0f34-44b7-8f95-cd1835bc0b41",
   "metadata": {},
   "outputs": [],
   "source": []
  },
  {
   "cell_type": "code",
   "execution_count": null,
   "id": "2b3ac645-306b-4b4e-b0fb-c2656b213f57",
   "metadata": {},
   "outputs": [],
   "source": []
  }
 ],
 "metadata": {
  "kernelspec": {
   "display_name": "Python 3 (ipykernel)",
   "language": "python",
   "name": "python3"
  },
  "language_info": {
   "codemirror_mode": {
    "name": "ipython",
    "version": 3
   },
   "file_extension": ".py",
   "mimetype": "text/x-python",
   "name": "python",
   "nbconvert_exporter": "python",
   "pygments_lexer": "ipython3",
   "version": "3.11.5"
  }
 },
 "nbformat": 4,
 "nbformat_minor": 5
}
